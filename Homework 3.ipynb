{
 "cells": [
  {
   "cell_type": "code",
   "execution_count": 47,
   "id": "1f8335d9-5fcb-409f-a787-77a8e0775059",
   "metadata": {},
   "outputs": [],
   "source": [
    "import pandas as pd\n",
    "import numpy as np\n",
    "import seaborn as sns\n",
    "import os\n",
    "\n",
    "import matplotlib.pyplot as plt"
   ]
  },
  {
   "cell_type": "code",
   "execution_count": 48,
   "id": "d0076f0a-4c2a-44cd-902c-7cf87c9f189d",
   "metadata": {},
   "outputs": [],
   "source": [
    "data = 'https://raw.githubusercontent.com/alexeygrigorev/datasets/master/course_lead_scoring.csv'\n"
   ]
  },
  {
   "cell_type": "code",
   "execution_count": 5,
   "id": "ea09db70-b2ab-421a-bcea-1f8a25f46f47",
   "metadata": {},
   "outputs": [
    {
     "name": "stderr",
     "output_type": "stream",
     "text": [
      "--2025-10-16 09:31:45--  https://raw.githubusercontent.com/alexeygrigorev/datasets/master/course_lead_scoring.csv\n",
      "Resolving raw.githubusercontent.com (raw.githubusercontent.com)... 185.199.109.133, 185.199.110.133, 185.199.111.133, ...\n",
      "Connecting to raw.githubusercontent.com (raw.githubusercontent.com)|185.199.109.133|:443... connected.\n",
      "HTTP request sent, awaiting response... 200 OK\n",
      "Length: 80876 (79K) [text/plain]\n",
      "Saving to: 'course_lead_scoring.csv.4'\n",
      "\n",
      "     0K .......... .......... .......... .......... .......... 63% 2.76K 11s\n",
      "    50K .......... .......... ........                        100% 9.12K=21s\n",
      "\n",
      "2025-10-16 09:32:14 (3.70 KB/s) - 'course_lead_scoring.csv.4' saved [80876/80876]\n",
      "\n"
     ]
    }
   ],
   "source": [
    "!wget $data "
   ]
  },
  {
   "cell_type": "code",
   "execution_count": 6,
   "id": "4fd6e936-a6b9-4046-90dc-e38a2abfd641",
   "metadata": {},
   "outputs": [
    {
     "data": {
      "text/html": [
       "<div>\n",
       "<style scoped>\n",
       "    .dataframe tbody tr th:only-of-type {\n",
       "        vertical-align: middle;\n",
       "    }\n",
       "\n",
       "    .dataframe tbody tr th {\n",
       "        vertical-align: top;\n",
       "    }\n",
       "\n",
       "    .dataframe thead th {\n",
       "        text-align: right;\n",
       "    }\n",
       "</style>\n",
       "<table border=\"1\" class=\"dataframe\">\n",
       "  <thead>\n",
       "    <tr style=\"text-align: right;\">\n",
       "      <th></th>\n",
       "      <th>lead_source</th>\n",
       "      <th>industry</th>\n",
       "      <th>number_of_courses_viewed</th>\n",
       "      <th>annual_income</th>\n",
       "      <th>employment_status</th>\n",
       "      <th>location</th>\n",
       "      <th>interaction_count</th>\n",
       "      <th>lead_score</th>\n",
       "      <th>converted</th>\n",
       "    </tr>\n",
       "  </thead>\n",
       "  <tbody>\n",
       "    <tr>\n",
       "      <th>0</th>\n",
       "      <td>paid_ads</td>\n",
       "      <td>NaN</td>\n",
       "      <td>1</td>\n",
       "      <td>79450.0</td>\n",
       "      <td>unemployed</td>\n",
       "      <td>south_america</td>\n",
       "      <td>4</td>\n",
       "      <td>0.94</td>\n",
       "      <td>1</td>\n",
       "    </tr>\n",
       "    <tr>\n",
       "      <th>1</th>\n",
       "      <td>social_media</td>\n",
       "      <td>retail</td>\n",
       "      <td>1</td>\n",
       "      <td>46992.0</td>\n",
       "      <td>employed</td>\n",
       "      <td>south_america</td>\n",
       "      <td>1</td>\n",
       "      <td>0.80</td>\n",
       "      <td>0</td>\n",
       "    </tr>\n",
       "    <tr>\n",
       "      <th>2</th>\n",
       "      <td>events</td>\n",
       "      <td>healthcare</td>\n",
       "      <td>5</td>\n",
       "      <td>78796.0</td>\n",
       "      <td>unemployed</td>\n",
       "      <td>australia</td>\n",
       "      <td>3</td>\n",
       "      <td>0.69</td>\n",
       "      <td>1</td>\n",
       "    </tr>\n",
       "    <tr>\n",
       "      <th>3</th>\n",
       "      <td>paid_ads</td>\n",
       "      <td>retail</td>\n",
       "      <td>2</td>\n",
       "      <td>83843.0</td>\n",
       "      <td>NaN</td>\n",
       "      <td>australia</td>\n",
       "      <td>1</td>\n",
       "      <td>0.87</td>\n",
       "      <td>0</td>\n",
       "    </tr>\n",
       "    <tr>\n",
       "      <th>4</th>\n",
       "      <td>referral</td>\n",
       "      <td>education</td>\n",
       "      <td>3</td>\n",
       "      <td>85012.0</td>\n",
       "      <td>self_employed</td>\n",
       "      <td>europe</td>\n",
       "      <td>3</td>\n",
       "      <td>0.62</td>\n",
       "      <td>1</td>\n",
       "    </tr>\n",
       "  </tbody>\n",
       "</table>\n",
       "</div>"
      ],
      "text/plain": [
       "    lead_source    industry  number_of_courses_viewed  annual_income  \\\n",
       "0      paid_ads         NaN                         1        79450.0   \n",
       "1  social_media      retail                         1        46992.0   \n",
       "2        events  healthcare                         5        78796.0   \n",
       "3      paid_ads      retail                         2        83843.0   \n",
       "4      referral   education                         3        85012.0   \n",
       "\n",
       "  employment_status       location  interaction_count  lead_score  converted  \n",
       "0        unemployed  south_america                  4        0.94          1  \n",
       "1          employed  south_america                  1        0.80          0  \n",
       "2        unemployed      australia                  3        0.69          1  \n",
       "3               NaN      australia                  1        0.87          0  \n",
       "4     self_employed         europe                  3        0.62          1  "
      ]
     },
     "execution_count": 6,
     "metadata": {},
     "output_type": "execute_result"
    }
   ],
   "source": [
    "df = pd.read_csv('course_lead_scoring.csv.4')\n",
    "df.head()"
   ]
  },
  {
   "cell_type": "code",
   "execution_count": 7,
   "id": "9bf11ae1-1a08-4a17-8f82-e7295146b12d",
   "metadata": {},
   "outputs": [
    {
     "data": {
      "text/plain": [
       "lead_source                  object\n",
       "industry                     object\n",
       "number_of_courses_viewed      int64\n",
       "annual_income               float64\n",
       "employment_status            object\n",
       "location                     object\n",
       "interaction_count             int64\n",
       "lead_score                  float64\n",
       "converted                     int64\n",
       "dtype: object"
      ]
     },
     "execution_count": 7,
     "metadata": {},
     "output_type": "execute_result"
    }
   ],
   "source": [
    "df.dtypes"
   ]
  },
  {
   "cell_type": "code",
   "execution_count": 9,
   "id": "f60177e1-64b8-4be7-86d1-e5e47132f9d5",
   "metadata": {},
   "outputs": [],
   "source": [
    "numerical_vars = df.select_dtypes(include=['int64', 'float64'])\n",
    "categorical_vars = df.select_dtypes(include=['object'])"
   ]
  },
  {
   "cell_type": "code",
   "execution_count": 10,
   "id": "2fe279a5-b1a7-4011-9d70-03a32e5d70ef",
   "metadata": {},
   "outputs": [
    {
     "name": "stdout",
     "output_type": "stream",
     "text": [
      "Numerical Variables:\n",
      "Index(['number_of_courses_viewed', 'annual_income', 'interaction_count',\n",
      "       'lead_score', 'converted'],\n",
      "      dtype='object')\n",
      "\n",
      "Categorical Variables:\n",
      "Index(['lead_source', 'industry', 'employment_status', 'location'], dtype='object')\n"
     ]
    }
   ],
   "source": [
    "print(\"Numerical Variables:\")\n",
    "print(numerical_vars.columns)\n",
    "\n",
    "print(\"\\nCategorical Variables:\")\n",
    "print(categorical_vars.columns)"
   ]
  },
  {
   "cell_type": "code",
   "execution_count": 11,
   "id": "c311bf54-4319-423e-8bb1-ac2e93232332",
   "metadata": {},
   "outputs": [],
   "source": [
    "for col in categorical_vars.columns:\n",
    "    df[col] = df[col].fillna('NA')\n",
    "\n",
    "for col in numerical_vars.columns:\n",
    "    df[col] = df[col].fillna(0.0)"
   ]
  },
  {
   "cell_type": "code",
   "execution_count": 12,
   "id": "b171acb7-ede3-4f93-832b-e24580e3aaca",
   "metadata": {},
   "outputs": [
    {
     "name": "stdout",
     "output_type": "stream",
     "text": [
      "Q1 Answer - Mode of industry: retail\n"
     ]
    }
   ],
   "source": [
    "industry_mode = df['industry'].mode()[0]\n",
    "print(f\"Q1 Answer - Mode of industry: {industry_mode}\")"
   ]
  },
  {
   "cell_type": "code",
   "execution_count": 22,
   "id": "e3d27dce-01ca-4b35-a987-ffa403141e4c",
   "metadata": {},
   "outputs": [],
   "source": [
    "corr_matrix = df[numerical_vars.columns].corr()\n",
    "\n",
    "#specified pairs\n",
    "pairs_to_check = [\n",
    "   ('interaction_count', 'lead_score'),\n",
    "   ('number_of_courses_viewed', 'lead_score'),\n",
    "   ('number_of_courses_viewed', 'interaction_count'),\n",
    "   ('annual_income', 'interaction_count')\n",
    "]"
   ]
  },
  {
   "cell_type": "code",
   "execution_count": 34,
   "id": "e94072e5-0ec8-46c4-ae50-95b7f1ded5a6",
   "metadata": {},
   "outputs": [
    {
     "name": "stdout",
     "output_type": "stream",
     "text": [
      "Answer - Pair with biggest correlation: annual_income and interaction_count\n"
     ]
    }
   ],
   "source": [
    "max_corr = 0\n",
    "max_pair = None\n",
    "\n",
    "for feat1, feat2 in pairs_to_check:\n",
    "    if feat1 in numerical_vars.columns and feat2 in numerical_vars.columns:\n",
    "      corr_value = abs(corr_matrix.loc[feat1, feat2])\n",
    "    if corr_value > max_corr:\n",
    "        max_corr = corr_value\n",
    "        max_pair = (feat1, feat2)\n",
    "print(f\"Answer - Pair with biggest correlation: {max_pair[0]} and {max_pair[1]}\")\n",
    "    "
   ]
  },
  {
   "cell_type": "code",
   "execution_count": 54,
   "id": "649acb9b-93b8-4bbd-98b0-3eae7010828a",
   "metadata": {},
   "outputs": [
    {
     "name": "stdout",
     "output_type": "stream",
     "text": [
      "Train set: (877, 8)\n",
      "Validation set: (292, 8)\n",
      "Test set: (293, 8)\n"
     ]
    }
   ],
   "source": [
    "from sklearn.model_selection import train_test_split\n",
    "\n",
    "X = df.drop(columns=['converted'])  \n",
    "y = df['converted']\n",
    "\n",
    "X_train, X_temp, y_train, y_temp = train_test_split(X, y, test_size=0.4, random_state=42)\n",
    "\n",
    "X_val, X_test, y_val, y_test = train_test_split(X_temp, y_temp, test_size=0.5, random_state=42)\n",
    "\n",
    "print(f\"Train set: {X_train.shape}\")\n",
    "print(f\"Validation set: {X_val.shape}\")\n",
    "print(f\"Test set: {X_test.shape}\")\n"
   ]
  },
  {
   "cell_type": "code",
   "execution_count": 56,
   "id": "ac227375-e9b4-4671-9062-057fbd9ebfeb",
   "metadata": {},
   "outputs": [
    {
     "name": "stdout",
     "output_type": "stream",
     "text": [
      "industry: 0.02\n",
      "location: 0.0\n",
      "lead_source: 0.03\n",
      "employment_status: 0.02\n",
      "Answer = with biggest MI score: lead_source\n"
     ]
    }
   ],
   "source": [
    "from sklearn.feature_selection import mutual_info_classif\n",
    "from sklearn.preprocessing import LabelEncoder\n",
    "\n",
    "categorical_features = ['industry', 'location', 'lead_source', 'employment_status']\n",
    "\n",
    "\n",
    "X_train_encoded = X_train[categorical_features].apply(LabelEncoder().fit_transform)\n",
    "\n",
    "\n",
    "mi_scores = mutual_info_classif(X_train_encoded, y_train, discrete_features=True)\n",
    "                                \n",
    "mi_dict = {feature: round(score, 2) for feature, score in zip(categorical_features, mi_scores)}\n",
    "\n",
    "\n",
    "for feature, score in mi_dict.items():\n",
    "    print(f\"{feature}: {score}\")\n",
    "\n",
    "\n",
    "max_feature = max(mi_dict, key=mi_dict.get)\n",
    "print(f\"Answer = with biggest MI score: {max_feature}\")\n"
   ]
  },
  {
   "cell_type": "code",
   "execution_count": 60,
   "id": "b9079483-033f-43a2-95a3-084dbe666c47",
   "metadata": {},
   "outputs": [
    {
     "name": "stdout",
     "output_type": "stream",
     "text": [
      "Validation Accuracy: 0.74\n"
     ]
    }
   ],
   "source": [
    "from sklearn.linear_model import LogisticRegression\n",
    "from sklearn.preprocessing import OneHotEncoder\n",
    "from sklearn.compose import ColumnTransformer\n",
    "from sklearn.pipeline import Pipeline\n",
    "from sklearn.metrics import accuracy_score\n",
    "\n",
    "categorical_cols = X_train.select_dtypes(include=['object', 'category']).columns.tolist()\n",
    "numerical_cols = X_train.select_dtypes(include=['int64', 'float64']).columns.tolist()\n",
    "\n",
    "preprocessor = ColumnTransformer(\n",
    "    transformers=[\n",
    "        ('cat', OneHotEncoder(handle_unknown='ignore'), categorical_cols)\n",
    "    ],\n",
    "    remainder='passthrough'  \n",
    ")\n",
    "\n",
    "model = LogisticRegression(solver='liblinear', C=1.0, max_iter=1000, random_state=42)\n",
    "\n",
    "pipeline = Pipeline(steps=[\n",
    "    ('preprocessor', preprocessor),\n",
    "    ('classifier', model)\n",
    "])\n",
    "\n",
    "pipeline.fit(X_train, y_train)\n",
    "\n",
    "y_pred = pipeline.predict(X_val)\n",
    "\n",
    "accuracy = accuracy_score(y_val, y_pred)\n",
    "print(\"Validation Accuracy:\", round(accuracy, 2))"
   ]
  },
  {
   "cell_type": "code",
   "execution_count": 63,
   "id": "267f17e3-8f64-4a13-bed9-a1e378dae43c",
   "metadata": {},
   "outputs": [
    {
     "name": "stdout",
     "output_type": "stream",
     "text": [
      "industry: 0.0000\n",
      "employment_status: -0.0034\n",
      "lead_score: 0.0000\n",
      "\n",
      "Least useful feature: industry\n"
     ]
    }
   ],
   "source": [
    "from sklearn.preprocessing import OneHotEncoder\n",
    "\n",
    "\n",
    "model = LogisticRegression(solver='liblinear', C=1.0, max_iter=1000, random_state=42)\n",
    "\n",
    "features_to_test = ['industry', 'employment_status', 'lead_score']\n",
    "\n",
    "categorical_cols = X_train.select_dtypes(include=['object', 'category']).columns.tolist()\n",
    "numerical_cols = X_train.select_dtypes(include=['int64', 'float64']).columns.tolist()\n",
    "preprocessor = ColumnTransformer([\n",
    "    ('cat', OneHotEncoder(handle_unknown='ignore'), categorical_cols)\n",
    "], remainder='passthrough')\n",
    "\n",
    "pipeline = Pipeline([\n",
    "    ('preprocessor', preprocessor),\n",
    "    ('classifier', model)\n",
    "])\n",
    "\n",
    "pipeline.fit(X_train, y_train)\n",
    "baseline_accuracy = accuracy_score(y_val, pipeline.predict(X_val))\n",
    "\n",
    "differences = {}\n",
    "\n",
    "for feature in features_to_test:\n",
    "    X_train_drop = X_train.drop(columns=[feature])\n",
    "    X_val_drop = X_val.drop(columns=[feature])\n",
    "    \n",
    "    cat_cols = X_train_drop.select_dtypes(include=['object', 'category']).columns.tolist()\n",
    "    \n",
    "    preprocessor_drop = ColumnTransformer([\n",
    "        ('cat', OneHotEncoder(handle_unknown='ignore'), cat_cols)\n",
    "    ], remainder='passthrough')\n",
    "    \n",
    "    pipeline_drop = Pipeline([\n",
    "        ('preprocessor', preprocessor_drop),\n",
    "        ('classifier', model)\n",
    "    ])\n",
    "    \n",
    "    pipeline_drop.fit(X_train_drop, y_train)\n",
    "    accuracy_drop = accuracy_score(y_val, pipeline_drop.predict(X_val_drop))\n",
    "    differences[feature] = baseline_accuracy - accuracy_drop\n",
    "    \n",
    "for feature, diff in differences.items():\n",
    "    print(f\"{feature}: {diff:.4f}\")\n",
    "\n",
    "# Identify least useful feature\n",
    "least_impactful = min(differences, key=lambda k: abs(differences[k]))\n",
    "print(f\"\\nLeast useful feature: {least_impactful}\")"
   ]
  },
  {
   "cell_type": "code",
   "execution_count": 67,
   "id": "846bc56d-8490-4076-a5ca-c9f564d04c1f",
   "metadata": {},
   "outputs": [
    {
     "name": "stdout",
     "output_type": "stream",
     "text": [
      "C=0.01: Accuracy=0.743\n",
      "C=0.1: Accuracy=0.743\n",
      "C=1: Accuracy=0.743\n",
      "C=10: Accuracy=0.743\n",
      "C=100: Accuracy=0.743\n",
      "Answer C value: 0.01 with accuracy 0.743\n"
     ]
    }
   ],
   "source": [
    "categorical_cols = X_train.select_dtypes(include=['object', 'category']).columns.tolist()\n",
    "\n",
    "preprocessor = ColumnTransformer([\n",
    "    ('cat', OneHotEncoder(handle_unknown='ignore'), categorical_cols)\n",
    "], remainder='passthrough')\n",
    "\n",
    "C_values = [0.01, 0.1, 1, 10, 100]\n",
    "accuracies = {}\n",
    "\n",
    "for C in C_values:\n",
    "    model = LogisticRegression(solver='liblinear', C=C, max_iter=1000, random_state=42)\n",
    "    \n",
    "    pipeline = Pipeline([\n",
    "        ('preprocessor', preprocessor),\n",
    "        ('classifier', model)\n",
    "    ])\n",
    "    \n",
    "    pipeline.fit(X_train, y_train)\n",
    "    y_pred = pipeline.predict(X_val)\n",
    "    acc = round(accuracy_score(y_val, y_pred), 3)\n",
    "    accuracies[C] = acc\n",
    "    print(f\"C={C}: Accuracy={acc}\")\n",
    "\n",
    "best_C = max(accuracies, key=accuracies.get)\n",
    "print(f\"Answer C value: {best_C} with accuracy {accuracies[best_C]}\")\n"
   ]
  },
  {
   "cell_type": "code",
   "execution_count": null,
   "id": "bf937ea4-2e18-4eb1-bbc6-e5c1dd972395",
   "metadata": {},
   "outputs": [],
   "source": []
  }
 ],
 "metadata": {
  "kernelspec": {
   "display_name": "Python 3 (ipykernel)",
   "language": "python",
   "name": "python3"
  },
  "language_info": {
   "codemirror_mode": {
    "name": "ipython",
    "version": 3
   },
   "file_extension": ".py",
   "mimetype": "text/x-python",
   "name": "python",
   "nbconvert_exporter": "python",
   "pygments_lexer": "ipython3",
   "version": "3.13.5"
  }
 },
 "nbformat": 4,
 "nbformat_minor": 5
}
